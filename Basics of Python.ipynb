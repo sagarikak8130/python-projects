{
 "cells": [
  {
   "cell_type": "code",
   "execution_count": 1,
   "metadata": {},
   "outputs": [
    {
     "data": {
      "text/plain": [
       "5"
      ]
     },
     "execution_count": 1,
     "metadata": {},
     "output_type": "execute_result"
    }
   ],
   "source": [
    "2+3"
   ]
  },
  {
   "cell_type": "code",
   "execution_count": 5,
   "metadata": {},
   "outputs": [
    {
     "data": {
      "text/plain": [
       "15"
      ]
     },
     "execution_count": 5,
     "metadata": {},
     "output_type": "execute_result"
    }
   ],
   "source": [
    "3*5"
   ]
  },
  {
   "cell_type": "code",
   "execution_count": 7,
   "metadata": {},
   "outputs": [
    {
     "data": {
      "text/plain": [
       "0.25"
      ]
     },
     "execution_count": 7,
     "metadata": {},
     "output_type": "execute_result"
    }
   ],
   "source": [
    "5/20"
   ]
  },
  {
   "cell_type": "code",
   "execution_count": 9,
   "metadata": {},
   "outputs": [
    {
     "data": {
      "text/plain": [
       "243"
      ]
     },
     "execution_count": 9,
     "metadata": {},
     "output_type": "execute_result"
    }
   ],
   "source": [
    "3**5"
   ]
  },
  {
   "cell_type": "code",
   "execution_count": 11,
   "metadata": {},
   "outputs": [
    {
     "data": {
      "text/plain": [
       "0"
      ]
     },
     "execution_count": 11,
     "metadata": {},
     "output_type": "execute_result"
    }
   ],
   "source": [
    "3%1"
   ]
  },
  {
   "cell_type": "code",
   "execution_count": null,
   "metadata": {},
   "outputs": [],
   "source": []
  },
  {
   "cell_type": "code",
   "execution_count": 13,
   "metadata": {},
   "outputs": [
    {
     "data": {
      "text/plain": [
       "176"
      ]
     },
     "execution_count": 13,
     "metadata": {},
     "output_type": "execute_result"
    }
   ],
   "source": [
    "(9+7)*(4+7)"
   ]
  },
  {
   "cell_type": "code",
   "execution_count": 14,
   "metadata": {},
   "outputs": [
    {
     "name": "stdout",
     "output_type": "stream",
     "text": [
      "The value of c when x is 12: 22\n",
      "The value of d when x is 10: 20\n"
     ]
    }
   ],
   "source": [
    "x = 12;y = 10;\n",
    "c= x+y \n",
    "print(\"The value of c when x is 12:\",c)\n",
    "x = 10\n",
    "d = x + y\n",
    "print(\"The value of d when x is 10:\",d)"
   ]
  },
  {
   "cell_type": "code",
   "execution_count": 17,
   "metadata": {},
   "outputs": [],
   "source": [
    "a=17.5\n",
    "b=8"
   ]
  },
  {
   "cell_type": "code",
   "execution_count": 18,
   "metadata": {},
   "outputs": [
    {
     "data": {
      "text/plain": [
       "25.5"
      ]
     },
     "execution_count": 18,
     "metadata": {},
     "output_type": "execute_result"
    }
   ],
   "source": [
    "c=a+b\n",
    "c"
   ]
  },
  {
   "cell_type": "code",
   "execution_count": 19,
   "metadata": {},
   "outputs": [
    {
     "data": {
      "text/plain": [
       "'how are you'"
      ]
     },
     "execution_count": 19,
     "metadata": {},
     "output_type": "execute_result"
    }
   ],
   "source": [
    "a = \"how are you\"\n",
    "a"
   ]
  },
  {
   "cell_type": "code",
   "execution_count": 21,
   "metadata": {},
   "outputs": [
    {
     "data": {
      "text/plain": [
       "'how are you'"
      ]
     },
     "execution_count": 21,
     "metadata": {},
     "output_type": "execute_result"
    }
   ],
   "source": [
    "a"
   ]
  },
  {
   "cell_type": "code",
   "execution_count": 23,
   "metadata": {},
   "outputs": [
    {
     "name": "stdout",
     "output_type": "stream",
     "text": [
      "how are you\n"
     ]
    }
   ],
   "source": [
    "print(a)"
   ]
  },
  {
   "cell_type": "code",
   "execution_count": 25,
   "metadata": {},
   "outputs": [
    {
     "data": {
      "text/plain": [
       "'string one'"
      ]
     },
     "execution_count": 25,
     "metadata": {},
     "output_type": "execute_result"
    }
   ],
   "source": [
    "'string one'"
   ]
  },
  {
   "cell_type": "code",
   "execution_count": 28,
   "metadata": {},
   "outputs": [
    {
     "data": {
      "text/plain": [
       "'string two'"
      ]
     },
     "execution_count": 28,
     "metadata": {},
     "output_type": "execute_result"
    }
   ],
   "source": [
    "'string two'"
   ]
  },
  {
   "cell_type": "code",
   "execution_count": 30,
   "metadata": {},
   "outputs": [
    {
     "data": {
      "text/plain": [
       "[21.42, 'food bar', 3, 4, 'bark', False, 3.14159]"
      ]
     },
     "execution_count": 30,
     "metadata": {},
     "output_type": "execute_result"
    }
   ],
   "source": [
    "a = [21.42,'food bar',3,4,'bark',False,3.14159]\n",
    "a"
   ]
  },
  {
   "cell_type": "code",
   "execution_count": 32,
   "metadata": {},
   "outputs": [
    {
     "name": "stdout",
     "output_type": "stream",
     "text": [
      "this is list [1, 2, 6, 4, 5]\n",
      "1st and 2nd element of list 1 2\n"
     ]
    }
   ],
   "source": [
    "temp = [1,2,6,4,5]\n",
    "print(\"this is list\",temp)\n",
    "print(\"1st and 2nd element of list\",temp[0],temp[1])"
   ]
  },
  {
   "cell_type": "code",
   "execution_count": 33,
   "metadata": {},
   "outputs": [
    {
     "name": "stdout",
     "output_type": "stream",
     "text": [
      "list after insertion [1, 2, 6, 9, 4, 5]\n"
     ]
    }
   ],
   "source": [
    "temp.insert(3,9)\n",
    "print(\"list after insertion\",temp)"
   ]
  },
  {
   "cell_type": "code",
   "execution_count": 34,
   "metadata": {},
   "outputs": [
    {
     "name": "stdout",
     "output_type": "stream",
     "text": [
      "after append the list is [1, 2, 6, 9, 4, 5, 10]\n"
     ]
    }
   ],
   "source": [
    "temp.append(10)\n",
    "print(\"after append the list is\",temp)"
   ]
  },
  {
   "cell_type": "code",
   "execution_count": 35,
   "metadata": {},
   "outputs": [
    {
     "name": "stdout",
     "output_type": "stream",
     "text": [
      "[1, 2, 6, 9, 4, 5, 10]\n",
      "Index of 10 is 6\n"
     ]
    }
   ],
   "source": [
    "print(temp)\n",
    "index=temp.index(10)\n",
    "print(\"Index of 10 is\",index)"
   ]
  },
  {
   "cell_type": "code",
   "execution_count": 41,
   "metadata": {},
   "outputs": [
    {
     "name": "stdout",
     "output_type": "stream",
     "text": [
      "[1, 2, 6, 9, 4, 10]\n",
      "list after removing 6  [1, 2, 9, 4, 10]\n"
     ]
    }
   ],
   "source": [
    "print(temp)\n",
    "temp.remove(6)\n",
    "print(\"list after removing 6 \",temp)"
   ]
  },
  {
   "cell_type": "code",
   "execution_count": 43,
   "metadata": {},
   "outputs": [
    {
     "name": "stdout",
     "output_type": "stream",
     "text": [
      "[10, 4, 9, 2, 1]\n",
      "list after reversing [1, 2, 9, 4, 10]\n"
     ]
    }
   ],
   "source": [
    "print(temp)\n",
    "temp.reverse()\n",
    "print(\"list after reversing\",temp)"
   ]
  },
  {
   "cell_type": "code",
   "execution_count": 78,
   "metadata": {
    "scrolled": true
   },
   "outputs": [
    {
     "name": "stdout",
     "output_type": "stream",
     "text": [
      "[1, 2, 4]\n",
      "sorted list [1, 2, 4]\n"
     ]
    }
   ],
   "source": [
    "print(temp)\n",
    "temp.sort()\n",
    "print(\"sorted list\",temp)"
   ]
  },
  {
   "cell_type": "code",
   "execution_count": null,
   "metadata": {},
   "outputs": [],
   "source": []
  },
  {
   "cell_type": "code",
   "execution_count": 47,
   "metadata": {},
   "outputs": [
    {
     "name": "stdout",
     "output_type": "stream",
     "text": [
      "sorted numbers: [8, 5, 4, 2]\n"
     ]
    }
   ],
   "source": [
    "numb=[2,8,5,4]\n",
    "numb.sort(reverse = True)\n",
    "print(\"sorted numbers:\",numb)"
   ]
  },
  {
   "cell_type": "code",
   "execution_count": 49,
   "metadata": {},
   "outputs": [
    {
     "name": "stdout",
     "output_type": "stream",
     "text": [
      "[1, 2, 4, 9]\n",
      "list after pop [1, 2, 4]\n"
     ]
    }
   ],
   "source": [
    "print(temp)\n",
    "temp.pop()\n",
    "print(\"list after pop\",temp)"
   ]
  },
  {
   "cell_type": "code",
   "execution_count": 51,
   "metadata": {},
   "outputs": [
    {
     "name": "stdout",
     "output_type": "stream",
     "text": [
      "Nest list [[1, 2, 3], [2, 3, 4], [5, 6, 7]]\n"
     ]
    }
   ],
   "source": [
    "nested = [[1,2,3],[2,3,4],[5,6,7]]\n",
    "print(\"Nest list\",nested)"
   ]
  },
  {
   "cell_type": "code",
   "execution_count": 53,
   "metadata": {},
   "outputs": [
    {
     "name": "stdout",
     "output_type": "stream",
     "text": [
      "[13, 14, 15, 16, 17]\n",
      "[11, 12]\n",
      "[13, 14, 15, 16]\n"
     ]
    }
   ],
   "source": [
    "a = [11,12,13,14,15,16,17]\n",
    "print(a[2:])\n",
    "print(a[:2])\n",
    "print(a[2:-1])"
   ]
  },
  {
   "cell_type": "code",
   "execution_count": 55,
   "metadata": {},
   "outputs": [
    {
     "data": {
      "text/plain": [
       "['a', 'b', 'c', 'd', 'e', 'f']"
      ]
     },
     "execution_count": 55,
     "metadata": {},
     "output_type": "execute_result"
    }
   ],
   "source": [
    "stack = ['a','b','c','d']\n",
    "stack.append('e')\n",
    "stack.append('f')\n",
    "stack"
   ]
  },
  {
   "cell_type": "code",
   "execution_count": 57,
   "metadata": {},
   "outputs": [
    {
     "data": {
      "text/plain": [
       "'e'"
      ]
     },
     "execution_count": 57,
     "metadata": {},
     "output_type": "execute_result"
    }
   ],
   "source": [
    "stack.pop()"
   ]
  },
  {
   "cell_type": "code",
   "execution_count": 60,
   "metadata": {},
   "outputs": [
    {
     "data": {
      "text/plain": [
       "['a', 'b', 'c', 'd']"
      ]
     },
     "execution_count": 60,
     "metadata": {},
     "output_type": "execute_result"
    }
   ],
   "source": [
    "stack"
   ]
  },
  {
   "cell_type": "code",
   "execution_count": 64,
   "metadata": {},
   "outputs": [
    {
     "data": {
      "text/plain": [
       "[1, 2, 3]"
      ]
     },
     "execution_count": 64,
     "metadata": {},
     "output_type": "execute_result"
    }
   ],
   "source": [
    "a = [1,2,3,4]\n",
    "import copy\n",
    "b = copy.copy(a)\n",
    "a.pop()\n",
    "b\n",
    "a"
   ]
  },
  {
   "cell_type": "code",
   "execution_count": 66,
   "metadata": {},
   "outputs": [],
   "source": [
    "b=a[:]"
   ]
  },
  {
   "cell_type": "code",
   "execution_count": 68,
   "metadata": {},
   "outputs": [
    {
     "name": "stdout",
     "output_type": "stream",
     "text": [
      "[1, 2, 3]\n",
      "[1, 2, 3]\n"
     ]
    }
   ],
   "source": [
    "print(a)\n",
    "print(b)"
   ]
  },
  {
   "cell_type": "code",
   "execution_count": 70,
   "metadata": {},
   "outputs": [
    {
     "data": {
      "text/plain": [
       "[1, 2, [10, 4]]"
      ]
     },
     "execution_count": 70,
     "metadata": {},
     "output_type": "execute_result"
    }
   ],
   "source": [
    "a = [1,2,[3,4]]\n",
    "b = a[:]\n",
    "a[2][0]=10\n",
    "a"
   ]
  },
  {
   "cell_type": "code",
   "execution_count": 72,
   "metadata": {},
   "outputs": [
    {
     "data": {
      "text/plain": [
       "[1, 2, [10, 4]]"
      ]
     },
     "execution_count": 72,
     "metadata": {},
     "output_type": "execute_result"
    }
   ],
   "source": [
    "b"
   ]
  },
  {
   "cell_type": "code",
   "execution_count": 74,
   "metadata": {},
   "outputs": [
    {
     "name": "stdout",
     "output_type": "stream",
     "text": [
      "a: [1, 2, [10, 4]]\n",
      "b: [1, 2, [3, 4]]\n"
     ]
    }
   ],
   "source": [
    "import copy\n",
    "a = [1,2,[3,4]]\n",
    "b = copy.deepcopy(a)\n",
    "a[2][0] = 10\n",
    "print(\"a:\",a)\n",
    "print(\"b:\",b)"
   ]
  },
  {
   "cell_type": "code",
   "execution_count": 75,
   "metadata": {},
   "outputs": [],
   "source": [
    "##########Dictionary"
   ]
  },
  {
   "cell_type": "code",
   "execution_count": 80,
   "metadata": {},
   "outputs": [
    {
     "name": "stdout",
     "output_type": "stream",
     "text": [
      "The dictionary is {'rob': 85, 'kevin': 70}\n"
     ]
    }
   ],
   "source": [
    "score = {'rob':85,'kevin':70}\n",
    "print(\"The dictionary is\",score)"
   ]
  },
  {
   "cell_type": "code",
   "execution_count": 82,
   "metadata": {},
   "outputs": [
    {
     "name": "stdout",
     "output_type": "stream",
     "text": [
      "{'rob': 85, 'kevin': 70}\n",
      "marks of kelvin are 70\n",
      "marks of rob are 85\n"
     ]
    }
   ],
   "source": [
    "print(score)\n",
    "mar = score['kevin']\n",
    "print(\"marks of kelvin are\",mar)\n",
    "print(\"marks of rob are\",score['rob'])"
   ]
  },
  {
   "cell_type": "code",
   "execution_count": 84,
   "metadata": {},
   "outputs": [
    {
     "name": "stdout",
     "output_type": "stream",
     "text": [
      "{'rob': 85, 'kevin': 70, 'jim': 92, 'tony': 56}\n",
      "the dictonary after jim and tony {'rob': 85, 'kevin': 70, 'jim': 92, 'tony': 56}\n"
     ]
    }
   ],
   "source": [
    "print(score)\n",
    "score['jim']=92\n",
    "score['tony']=56\n",
    "print(\"the dictonary after jim and tony\",score)"
   ]
  },
  {
   "cell_type": "code",
   "execution_count": 86,
   "metadata": {},
   "outputs": [
    {
     "name": "stdout",
     "output_type": "stream",
     "text": [
      "{'rob': 85, 'kevin': 70, 'jim': 92, 'tony': 56}\n",
      "list of students - ['rob', 'kevin', 'jim', 'tony']\n"
     ]
    }
   ],
   "source": [
    "print(score)\n",
    "names = list(score.keys())\n",
    "print(\"list of students -\",names)"
   ]
  },
  {
   "cell_type": "code",
   "execution_count": 89,
   "metadata": {},
   "outputs": [
    {
     "name": "stdout",
     "output_type": "stream",
     "text": [
      "{'rob': 85, 'kevin': 70, 'jim': 92, 'tony': 56}\n",
      "list of marks [85, 70, 92, 56]\n"
     ]
    }
   ],
   "source": [
    "print(score)\n",
    "names = list(score.values())\n",
    "print(\"list of marks\",names)"
   ]
  },
  {
   "cell_type": "code",
   "execution_count": 91,
   "metadata": {},
   "outputs": [
    {
     "name": "stdout",
     "output_type": "stream",
     "text": [
      "{'rob': 85, 'kevin': 70, 'jim': 92, 'tony': 56}\n",
      "if kory is there in dictionary - False\n"
     ]
    }
   ],
   "source": [
    "print(score)\n",
    "check = 'kory' in score\n",
    "print(\"if kory is there in dictionary -\",check)"
   ]
  },
  {
   "cell_type": "code",
   "execution_count": 94,
   "metadata": {},
   "outputs": [
    {
     "name": "stdout",
     "output_type": "stream",
     "text": [
      "if jim is there in dictionary -  True\n"
     ]
    }
   ],
   "source": [
    "check2 = 'jim' in score\n",
    "print(\"if jim is there in dictionary - \",check2)"
   ]
  },
  {
   "cell_type": "code",
   "execution_count": 128,
   "metadata": {},
   "outputs": [],
   "source": [
    "d = {'first':'string value','second':[1,2]}"
   ]
  },
  {
   "cell_type": "code",
   "execution_count": 130,
   "metadata": {},
   "outputs": [
    {
     "data": {
      "text/plain": [
       "dict_items([('first', 'string value'), ('second', [1, 2])])"
      ]
     },
     "execution_count": 130,
     "metadata": {},
     "output_type": "execute_result"
    }
   ],
   "source": [
    "d.items()"
   ]
  },
  {
   "cell_type": "code",
   "execution_count": 133,
   "metadata": {},
   "outputs": [
    {
     "data": {
      "text/plain": [
       "'string value'"
      ]
     },
     "execution_count": 133,
     "metadata": {},
     "output_type": "execute_result"
    }
   ],
   "source": [
    "d.get('first')"
   ]
  },
  {
   "cell_type": "code",
   "execution_count": 134,
   "metadata": {},
   "outputs": [
    {
     "data": {
      "text/plain": [
       "{'second': [1, 2]}"
      ]
     },
     "execution_count": 134,
     "metadata": {},
     "output_type": "execute_result"
    }
   ],
   "source": [
    "d.pop('first')\n",
    "d\n"
   ]
  },
  {
   "cell_type": "code",
   "execution_count": 138,
   "metadata": {},
   "outputs": [
    {
     "ename": "KeyError",
     "evalue": "'popitem(): dictionary is empty'",
     "output_type": "error",
     "traceback": [
      "\u001b[1;31m---------------------------------------------------------------------------\u001b[0m",
      "\u001b[1;31mKeyError\u001b[0m                                  Traceback (most recent call last)",
      "\u001b[1;32m<ipython-input-138-83c64cff336b>\u001b[0m in \u001b[0;36m<module>\u001b[1;34m\u001b[0m\n\u001b[1;32m----> 1\u001b[1;33m \u001b[0md\u001b[0m\u001b[1;33m.\u001b[0m\u001b[0mpopitem\u001b[0m\u001b[1;33m(\u001b[0m\u001b[1;33m)\u001b[0m\u001b[1;33m\u001b[0m\u001b[1;33m\u001b[0m\u001b[0m\n\u001b[0m",
      "\u001b[1;31mKeyError\u001b[0m: 'popitem(): dictionary is empty'"
     ]
    }
   ],
   "source": [
    "d.popitem()"
   ]
  },
  {
   "cell_type": "code",
   "execution_count": 140,
   "metadata": {},
   "outputs": [
    {
     "data": {
      "text/plain": [
       "{}"
      ]
     },
     "execution_count": 140,
     "metadata": {},
     "output_type": "execute_result"
    }
   ],
   "source": [
    "d"
   ]
  },
  {
   "cell_type": "code",
   "execution_count": 142,
   "metadata": {},
   "outputs": [
    {
     "data": {
      "text/plain": [
       "{'b': 2, 'c': 3}"
      ]
     },
     "execution_count": 142,
     "metadata": {},
     "output_type": "execute_result"
    }
   ],
   "source": [
    "d = {'a':1,'b':2,'c':3}\n",
    "del d['a']\n",
    "d"
   ]
  },
  {
   "cell_type": "code",
   "execution_count": 144,
   "metadata": {},
   "outputs": [
    {
     "data": {
      "text/plain": [
       "{}"
      ]
     },
     "execution_count": 144,
     "metadata": {},
     "output_type": "execute_result"
    }
   ],
   "source": [
    "d.clear()\n",
    "d"
   ]
  },
  {
   "cell_type": "code",
   "execution_count": 145,
   "metadata": {},
   "outputs": [],
   "source": [
    "#####Tuple\n",
    "#Tuples are identical to list in all respects,except for the following properties:\n",
    "#Tuples are defined by enclosing the elements in parenthesis (()) instead of square brackets([]).\n",
    "#tuples are immutable."
   ]
  },
  {
   "cell_type": "code",
   "execution_count": 149,
   "metadata": {},
   "outputs": [
    {
     "name": "stdout",
     "output_type": "stream",
     "text": [
      "first element of tuple 1 : 1\n",
      "second element of tuple m : 5\n"
     ]
    }
   ],
   "source": [
    "l = (1,2,3)\n",
    "print(\"first element of tuple 1 :\",l[0])\n",
    "m = 4,5,6\n",
    "print(\"second element of tuple m :\",m[1])"
   ]
  },
  {
   "cell_type": "code",
   "execution_count": 152,
   "metadata": {},
   "outputs": [
    {
     "name": "stdout",
     "output_type": "stream",
     "text": [
      "Singleton tuple (1,)\n",
      "repeated tuple (1, 1, 1, 1, 1)\n",
      "concatenated tupil (1, 1, 1, 1, 1, 9)\n"
     ]
    }
   ],
   "source": [
    "t=(1,)\n",
    "print(\"Singleton tuple\",t)\n",
    "r=t*5\n",
    "print(\"repeated tuple\",r)\n",
    "r +=(9,)\n",
    "print(\"concatenated tupil\",r)"
   ]
  },
  {
   "cell_type": "code",
   "execution_count": 156,
   "metadata": {},
   "outputs": [
    {
     "name": "stdout",
     "output_type": "stream",
     "text": [
      "2\n",
      "letters in either a or b {'jan': 1, 'feb': 2, 'march': 3}\n"
     ]
    }
   ],
   "source": [
    "d = dict([('jan',1),('feb',2),('march',3)])\n",
    "print(d['feb'])\n",
    "print(\"letters in either a or b\",d)"
   ]
  },
  {
   "cell_type": "code",
   "execution_count": 160,
   "metadata": {},
   "outputs": [
    {
     "data": {
      "text/plain": [
       "'a'"
      ]
     },
     "execution_count": 160,
     "metadata": {},
     "output_type": "execute_result"
    }
   ],
   "source": [
    "(x,y,z) = ('a','b','c')\n",
    "x"
   ]
  },
  {
   "cell_type": "code",
   "execution_count": 165,
   "metadata": {},
   "outputs": [],
   "source": [
    "(x,yx,z) = range(3)    #(0,1,2)"
   ]
  },
  {
   "cell_type": "code",
   "execution_count": 163,
   "metadata": {},
   "outputs": [
    {
     "data": {
      "text/plain": [
       "2"
      ]
     },
     "execution_count": 163,
     "metadata": {},
     "output_type": "execute_result"
    }
   ],
   "source": [
    "z"
   ]
  },
  {
   "cell_type": "code",
   "execution_count": 167,
   "metadata": {},
   "outputs": [
    {
     "data": {
      "text/plain": [
       "1"
      ]
     },
     "execution_count": 167,
     "metadata": {},
     "output_type": "execute_result"
    }
   ],
   "source": [
    "yx"
   ]
  },
  {
   "cell_type": "code",
   "execution_count": 171,
   "metadata": {},
   "outputs": [
    {
     "name": "stdout",
     "output_type": "stream",
     "text": [
      "1\n",
      "2\n"
     ]
    },
    {
     "data": {
      "text/plain": [
       "3"
      ]
     },
     "execution_count": 171,
     "metadata": {},
     "output_type": "execute_result"
    }
   ],
   "source": [
    "data = (1,2,3)\n",
    "(p,q,r) = data\n",
    "print(p)\n",
    "print(q)\n",
    "r"
   ]
  },
  {
   "cell_type": "code",
   "execution_count": 173,
   "metadata": {},
   "outputs": [
    {
     "name": "stdout",
     "output_type": "stream",
     "text": [
      "swapped p  1\n",
      "swapped q  2\n"
     ]
    }
   ],
   "source": [
    "(p,q) = (q,p)\n",
    "print(\"swapped p \",p)\n",
    "print(\"swapped q \",q)"
   ]
  },
  {
   "cell_type": "code",
   "execution_count": 176,
   "metadata": {},
   "outputs": [
    {
     "name": "stdout",
     "output_type": "stream",
     "text": [
      "Lenght of tupil : 5\n",
      "slice of tupil : (3, 4, 5)\n",
      "original tupil : (1, 2, 3, 4, 5)\n",
      "copy of tupil: (1, 2, 3, 4, 5)\n"
     ]
    }
   ],
   "source": [
    "t = (1,2,3,4,5)\n",
    "print(\"Lenght of tupil :\",len(t))\n",
    "s=t[2:]\n",
    "print(\"slice of tupil :\",s)\n",
    "copyt = t\n",
    "#t[0] = 5\n",
    "print(\"original tupil :\",t)\n",
    "print(\"copy of tupil:\",copyt)"
   ]
  },
  {
   "cell_type": "code",
   "execution_count": 178,
   "metadata": {},
   "outputs": [
    {
     "data": {
      "text/plain": [
       "(1, 2, [4, 10])"
      ]
     },
     "execution_count": 178,
     "metadata": {},
     "output_type": "execute_result"
    }
   ],
   "source": [
    "t = (1,2,[3,10])\n",
    "t[2][0]=4\n",
    "t"
   ]
  },
  {
   "cell_type": "code",
   "execution_count": 180,
   "metadata": {},
   "outputs": [
    {
     "data": {
      "text/plain": [
       "6"
      ]
     },
     "execution_count": 180,
     "metadata": {},
     "output_type": "execute_result"
    }
   ],
   "source": [
    "t = 1,2,3,6\n",
    "max(t)"
   ]
  },
  {
   "cell_type": "code",
   "execution_count": 14,
   "metadata": {
    "scrolled": true
   },
   "outputs": [
    {
     "ename": "NameError",
     "evalue": "name 't' is not defined",
     "output_type": "error",
     "traceback": [
      "\u001b[1;31m---------------------------------------------------------------------------\u001b[0m",
      "\u001b[1;31mNameError\u001b[0m                                 Traceback (most recent call last)",
      "\u001b[1;32m<ipython-input-14-f83e2c1a09c4>\u001b[0m in \u001b[0;36m<module>\u001b[1;34m\u001b[0m\n\u001b[1;32m----> 1\u001b[1;33m \u001b[0mstr\u001b[0m\u001b[1;33m(\u001b[0m\u001b[0mt\u001b[0m\u001b[1;33m)\u001b[0m\u001b[1;33m\u001b[0m\u001b[1;33m\u001b[0m\u001b[0m\n\u001b[0m",
      "\u001b[1;31mNameError\u001b[0m: name 't' is not defined"
     ]
    }
   ],
   "source": [
    "str(t)   "
   ]
  },
  {
   "cell_type": "code",
   "execution_count": 5,
   "metadata": {},
   "outputs": [
    {
     "name": "stdout",
     "output_type": "stream",
     "text": [
      "first input : {'tiger', 'dog', 'cat', 'lion'}\n",
      "second input : {'tiger', 'dog', 'cat', 'lion'}\n"
     ]
    }
   ],
   "source": [
    "animals = {'dog','cat','lion','tiger'}\n",
    "print(\"first input :\",animals)\n",
    "animals1 = {'dog','dog','cat','lion','tiger'}\n",
    "print(\"second input :\",animals)"
   ]
  },
  {
   "cell_type": "code",
   "execution_count": 7,
   "metadata": {},
   "outputs": [
    {
     "name": "stdout",
     "output_type": "stream",
     "text": [
      "OR function in set : {1, 2, 3, 4, 5, 6}\n",
      "AND function in set : {3, 4}\n",
      "Subset function in set : False\n",
      "Symmetric difference function in set : {1, 2, 5, 6}\n"
     ]
    }
   ],
   "source": [
    "a = set([1,2,3,4])\n",
    "b = set([3,4,5,6])\n",
    "print(\"OR function in set :\",a|b)\n",
    "print(\"AND function in set :\",a&b)\n",
    "print(\"Subset function in set :\",a<b)\n",
    "print(\"Symmetric difference function in set :\",a^b)\n"
   ]
  },
  {
   "cell_type": "code",
   "execution_count": 10,
   "metadata": {},
   "outputs": [
    {
     "name": "stdout",
     "output_type": "stream",
     "text": [
      "True\n",
      "False\n"
     ]
    }
   ],
   "source": [
    "i = 'cat' in animals\n",
    "print(i)\n",
    "j = 'crow' in animals\n",
    "print(j)"
   ]
  },
  {
   "cell_type": "code",
   "execution_count": 12,
   "metadata": {},
   "outputs": [
    {
     "name": "stdout",
     "output_type": "stream",
     "text": [
      "set a is {'a', 'b', 'd', 'c', 'r'}\n",
      "set b is {'a', 'l', 'm', 'c', 'z'}\n"
     ]
    }
   ],
   "source": [
    "a = set('abracadabra')\n",
    "b = set('alacazam')\n",
    "print(\"set a is\",a)\n",
    "print(\"set b is\",b)"
   ]
  },
  {
   "cell_type": "code",
   "execution_count": 15,
   "metadata": {},
   "outputs": [
    {
     "name": "stdout",
     "output_type": "stream",
     "text": [
      "letters in a but not in b {'r', 'd', 'b'}\n"
     ]
    }
   ],
   "source": [
    "c = a-b\n",
    "print(\"letters in a but not in b\",c)"
   ]
  },
  {
   "cell_type": "code",
   "execution_count": 17,
   "metadata": {},
   "outputs": [
    {
     "name": "stdout",
     "output_type": "stream",
     "text": [
      "letters in both a and b {'a', 'c'}\n",
      "letters in both a or b {'a', 'l', 'b', 'm', 'd', 'c', 'z', 'r'}\n"
     ]
    }
   ],
   "source": [
    "e = a&b\n",
    "f = a | b\n",
    "print(\"letters in both a and b\",e)\n",
    "print(\"letters in both a or b\",f)\n"
   ]
  },
  {
   "cell_type": "code",
   "execution_count": 19,
   "metadata": {},
   "outputs": [
    {
     "name": "stdout",
     "output_type": "stream",
     "text": [
      "letters in a or b but not both {'l', 'm', 'z', 'r', 'b', 'd'}\n"
     ]
    }
   ],
   "source": [
    "h = a^b\n",
    "print(\"letters in a or b but not both\",h)"
   ]
  },
  {
   "cell_type": "code",
   "execution_count": 20,
   "metadata": {},
   "outputs": [],
   "source": [
    "###################FROZEN SETS"
   ]
  },
  {
   "cell_type": "code",
   "execution_count": 22,
   "metadata": {},
   "outputs": [
    {
     "name": "stdout",
     "output_type": "stream",
     "text": [
      "frozenset({'a', 'l', 2, 3, 4, 'm', 'c', 'z'})\n"
     ]
    }
   ],
   "source": [
    "a = frozenset([1,2,3])\n",
    "a = frozenset([2,3,4])\n",
    "c = a.union(b)\n",
    "print(c)"
   ]
  },
  {
   "cell_type": "code",
   "execution_count": 24,
   "metadata": {},
   "outputs": [
    {
     "ename": "TypeError",
     "evalue": "'frozenset' object does not support item assignment",
     "output_type": "error",
     "traceback": [
      "\u001b[1;31m---------------------------------------------------------------------------\u001b[0m",
      "\u001b[1;31mTypeError\u001b[0m                                 Traceback (most recent call last)",
      "\u001b[1;32m<ipython-input-24-d19f117c9f86>\u001b[0m in \u001b[0;36m<module>\u001b[1;34m\u001b[0m\n\u001b[1;32m----> 1\u001b[1;33m \u001b[0mc\u001b[0m\u001b[1;33m[\u001b[0m\u001b[1;36m3\u001b[0m\u001b[1;33m]\u001b[0m \u001b[1;33m=\u001b[0m \u001b[1;36m5\u001b[0m\u001b[1;33m\u001b[0m\u001b[1;33m\u001b[0m\u001b[0m\n\u001b[0m",
      "\u001b[1;31mTypeError\u001b[0m: 'frozenset' object does not support item assignment"
     ]
    }
   ],
   "source": [
    "c[3] = 5"
   ]
  },
  {
   "cell_type": "code",
   "execution_count": 26,
   "metadata": {},
   "outputs": [
    {
     "data": {
      "text/plain": [
       "1"
      ]
     },
     "execution_count": 26,
     "metadata": {},
     "output_type": "execute_result"
    }
   ],
   "source": [
    "fa = {frozenset([1,2]):1}\n",
    "fa[ frozenset([1,2])]"
   ]
  },
  {
   "cell_type": "code",
   "execution_count": 27,
   "metadata": {},
   "outputs": [],
   "source": [
    "##########Loops"
   ]
  },
  {
   "cell_type": "code",
   "execution_count": 29,
   "metadata": {},
   "outputs": [
    {
     "name": "stdout",
     "output_type": "stream",
     "text": [
      "I am loving it\n"
     ]
    }
   ],
   "source": [
    "item = \"jalebi\"\n",
    "if item == \"jalebi\":\n",
    "    print(\"I am loving it\")"
   ]
  },
  {
   "cell_type": "code",
   "execution_count": 31,
   "metadata": {},
   "outputs": [
    {
     "name": "stdout",
     "output_type": "stream",
     "text": [
      "I just want jalebi\n"
     ]
    }
   ],
   "source": [
    "item = \"dal\"\n",
    "if item == \"jalebi\":\n",
    "    print(\"I am loving it\")\n",
    "else:\n",
    "    print(\"I just want jalebi\")"
   ]
  },
  {
   "cell_type": "code",
   "execution_count": 33,
   "metadata": {},
   "outputs": [
    {
     "name": "stdout",
     "output_type": "stream",
     "text": [
      "I need rice also\n"
     ]
    }
   ],
   "source": [
    "item = \"dal\"\n",
    "if item == \"jalebi\":\n",
    "    print(\"I am loving it\")\n",
    "elif item == \"dal\":\n",
    "    print(\"I need rice also\")\n",
    "else:\n",
    "    print(\"I will not eat\")\n",
    "    "
   ]
  },
  {
   "cell_type": "code",
   "execution_count": 35,
   "metadata": {},
   "outputs": [
    {
     "name": "stdout",
     "output_type": "stream",
     "text": [
      "The count is: 4\n",
      "The count is: 3\n",
      "The count is: 2\n",
      "The count is: 1\n",
      "Good bye!\n"
     ]
    }
   ],
   "source": [
    "count = 4\n",
    "while( count > 0):\n",
    "    print('The count is:',count)\n",
    "    count = count - 1\n",
    "\n",
    "print(\"Good bye!\")"
   ]
  },
  {
   "cell_type": "code",
   "execution_count": 42,
   "metadata": {},
   "outputs": [
    {
     "name": "stdout",
     "output_type": "stream",
     "text": [
      "True\n"
     ]
    }
   ],
   "source": [
    "x = 10\n",
    "if x== 10 or x > 0 or \\\n",
    "    x<100:\n",
    "        print('True')"
   ]
  },
  {
   "cell_type": "code",
   "execution_count": 45,
   "metadata": {},
   "outputs": [
    {
     "name": "stdout",
     "output_type": "stream",
     "text": [
      "Current letter: W\n",
      "Current letter: e\n"
     ]
    }
   ],
   "source": [
    "for letter in \"Welcome\":\n",
    "    if letter == \"l\":\n",
    "        break\n",
    "    print('Current letter:',letter)"
   ]
  },
  {
   "cell_type": "code",
   "execution_count": 46,
   "metadata": {},
   "outputs": [
    {
     "name": "stdout",
     "output_type": "stream",
     "text": [
      "Current letter: W\n",
      "Current letter: e\n",
      "Current letter: c\n",
      "Current letter: o\n",
      "Current letter: m\n",
      "Current letter: e\n"
     ]
    }
   ],
   "source": [
    "for letter in \"Welcome\":\n",
    "    if letter == \"l\":\n",
    "        continue\n",
    "    print('Current letter:',letter)"
   ]
  },
  {
   "cell_type": "code",
   "execution_count": null,
   "metadata": {},
   "outputs": [],
   "source": [
    "############### FUNCTIONS AND METHODS"
   ]
  },
  {
   "cell_type": "code",
   "execution_count": 48,
   "metadata": {},
   "outputs": [
    {
     "name": "stdout",
     "output_type": "stream",
     "text": [
      "first return:  10\n",
      "second return:  8\n"
     ]
    }
   ],
   "source": [
    "def add(p,q):\n",
    "    return p+q\n",
    "\n",
    "print(\"first return: \",add(4,6))\n",
    "r = add(3,5)\n",
    "print(\"second return: \",r)"
   ]
  },
  {
   "cell_type": "code",
   "execution_count": 43,
   "metadata": {},
   "outputs": [
    {
     "name": "stdout",
     "output_type": "stream",
     "text": [
      "Wow,this also working? I never knew!\n"
     ]
    }
   ],
   "source": [
    "def print_something():\n",
    "    print('Wow,this also working?','I never knew!')\n",
    "print_something()"
   ]
  },
  {
   "cell_type": "code",
   "execution_count": 41,
   "metadata": {},
   "outputs": [
    {
     "name": "stdout",
     "output_type": "stream",
     "text": [
      "['Monday', 'Tuesday', 'Wednesday', 'Thursday', 'Friday']\n"
     ]
    }
   ],
   "source": [
    "week = ['Monday','Tuesday','Wednesday','Thursday','Friday']\n",
    "print(week)"
   ]
  },
  {
   "cell_type": "code",
   "execution_count": 51,
   "metadata": {},
   "outputs": [
    {
     "name": "stdout",
     "output_type": "stream",
     "text": [
      "Welcome Abhinav to the python world\n"
     ]
    }
   ],
   "source": [
    "def greet(name):\n",
    "    print(\"Welcome \"+name+\" to the python world\")\n",
    "greet(\"Abhinav\")"
   ]
  },
  {
   "cell_type": "code",
   "execution_count": 54,
   "metadata": {},
   "outputs": [
    {
     "name": "stdout",
     "output_type": "stream",
     "text": [
      "original value : 10 20\n",
      "swapped value : 20 10\n"
     ]
    }
   ],
   "source": [
    "def swap(a,b):\n",
    "    return(b,a)\n",
    "a = 10\n",
    "b = 20\n",
    "print(\"original value :\",a,b)\n",
    "a,b = swap(a,b)\n",
    "print(\"swapped value :\",a,b)"
   ]
  },
  {
   "cell_type": "code",
   "execution_count": 56,
   "metadata": {},
   "outputs": [
    {
     "name": "stdout",
     "output_type": "stream",
     "text": [
      "food is missed\n"
     ]
    }
   ],
   "source": [
    "def miss():\n",
    "    print(\"food is missed\")\n",
    "food=\"rice\"\n",
    "if food == \"curd\":\n",
    "    print(\"here is your food\")\n",
    "else:\n",
    "    miss()"
   ]
  },
  {
   "cell_type": "code",
   "execution_count": 58,
   "metadata": {},
   "outputs": [
    {
     "name": "stdout",
     "output_type": "stream",
     "text": [
      "48\n"
     ]
    }
   ],
   "source": [
    "def num(val1,val2,val3,val4):\n",
    "    return val1*val2*val3*val4\n",
    "print(num(4,2,6,1))"
   ]
  },
  {
   "cell_type": "code",
   "execution_count": 61,
   "metadata": {},
   "outputs": [
    {
     "name": "stdout",
     "output_type": "stream",
     "text": [
      "Product : Headphones\n",
      "cost : 3500\n"
     ]
    }
   ],
   "source": [
    "def printdtl(product,cost):\n",
    "    print(\"Product :\",product)\n",
    "    print(\"cost :\",cost)\n",
    "    return;\n",
    "\n",
    "printdtl(cost = 3500,product = \"Headphones\")"
   ]
  },
  {
   "cell_type": "code",
   "execution_count": 63,
   "metadata": {},
   "outputs": [
    {
     "name": "stdout",
     "output_type": "stream",
     "text": [
      "Product : keyword\n",
      "cost : 2500\n"
     ]
    }
   ],
   "source": [
    "printdtl(cost = 2500,product = \"keyword\")\n"
   ]
  },
  {
   "cell_type": "code",
   "execution_count": 64,
   "metadata": {},
   "outputs": [],
   "source": [
    "def sal_HRA (x,HRA = 4):\n",
    "    return x*(HRA/100)"
   ]
  },
  {
   "cell_type": "code",
   "execution_count": 66,
   "metadata": {},
   "outputs": [
    {
     "name": "stdout",
     "output_type": "stream",
     "text": [
      "400.0\n"
     ]
    }
   ],
   "source": [
    "print (sal_HRA(10000))"
   ]
  },
  {
   "cell_type": "code",
   "execution_count": 68,
   "metadata": {},
   "outputs": [
    {
     "name": "stdout",
     "output_type": "stream",
     "text": [
      "800.0\n"
     ]
    }
   ],
   "source": [
    "print(sal_HRA(20000))\n"
   ]
  }
 ],
 "metadata": {
  "kernelspec": {
   "display_name": "Python 3",
   "language": "python",
   "name": "python3"
  },
  "language_info": {
   "codemirror_mode": {
    "name": "ipython",
    "version": 3
   },
   "file_extension": ".py",
   "mimetype": "text/x-python",
   "name": "python",
   "nbconvert_exporter": "python",
   "pygments_lexer": "ipython3",
   "version": "3.7.4"
  }
 },
 "nbformat": 4,
 "nbformat_minor": 2
}
